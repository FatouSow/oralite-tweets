{
 "cells": [
  {
   "cell_type": "markdown",
   "id": "bf50c3af",
   "metadata": {},
   "source": [
    "# Général"
   ]
  },
  {
   "cell_type": "code",
   "execution_count": 1,
   "id": "229da627",
   "metadata": {},
   "outputs": [
    {
     "name": "stderr",
     "output_type": "stream",
     "text": [
      "C:\\Users\\phisi\\anaconda3\\lib\\site-packages\\scipy\\__init__.py:138: UserWarning: A NumPy version >=1.16.5 and <1.23.0 is required for this version of SciPy (detected version 1.23.5)\n",
      "  warnings.warn(f\"A NumPy version >={np_minversion} and <{np_maxversion} is required for this version of \"\n"
     ]
    }
   ],
   "source": [
    "import json\n",
    "import glob\n",
    "import xml.etree.ElementTree as ET\n",
    "import tweepy\n",
    "from bs4 import BeautifulSoup\n",
    "import re\n",
    "from nltk.tag import StanfordPOSTagger\n",
    "import os\n",
    "import pandas as pd\n",
    "\n",
    "def write_json(chemin,contenu):\n",
    "    with open (chemin, \"w\", encoding=\"utf-8\") as w:\n",
    "        w.write(json.dumps(contenu, indent=2, ensure_ascii=False))\n",
    "        \n",
    "def ouvrir_json(chemin) :\n",
    "    with open(chemin,encoding=\"utf-8\") as f :\n",
    "        toto = json.load(f)\n",
    "    return toto"
   ]
  },
  {
   "cell_type": "markdown",
   "id": "9ba20927",
   "metadata": {},
   "source": [
    "# Extraction des corpus : constitution de corpus équilibrés"
   ]
  },
  {
   "cell_type": "code",
   "execution_count": 2,
   "id": "09937e2a",
   "metadata": {},
   "outputs": [],
   "source": [
    "#https://dev.to/twitterdev/a-comprehensive-guide-for-using-the-twitter-api-v2-using-tweepy-in-python-15d9\n",
    "#constitution du corpus de tweets : utilisation de Twitter API\n",
    "def traitements_tweets(bearer_token,req,nom_fichier) :\n",
    "    ''' Fonction d'extraction de tweets qui renvoie un fichier de tweets'''\n",
    "    tweets = []\n",
    "    nb_mots = 0\n",
    "    client = tweepy.Client(bearer_token=bearer_token)\n",
    "    for tweet in tweepy.Paginator(client.search_recent_tweets, query=req,\n",
    "                                  tweet_fields=['context_annotations', 'created_at'], max_results=100).flatten(limit=1700):\n",
    "        tweets.append(tweet.text)\n",
    "        nb_mots+=len(tweet.text.split())\n",
    "    \n",
    "    print(\"Nombre de tweets : \",len(tweets))\n",
    "    print(\"Nombre de mots : \",nb_mots)\n",
    "\n",
    "    write_json(nom_fichier,tweets)\n",
    "    \n",
    "    return tweets "
   ]
  },
  {
   "cell_type": "code",
   "execution_count": 3,
   "id": "a47f8516",
   "metadata": {},
   "outputs": [],
   "source": [
    "#constitution du corpus d'articles d'Europresse\n",
    "def traitement_articles(fichier) :\n",
    "    '''Fonction qui permet de sauvegarder le corpus d'articles dans une liste  '''\n",
    "    #utilisation de la librairie ElementTree\n",
    "    tree = ET.parse(fichier)\n",
    "    root = tree.getroot()\n",
    "    articles = []\n",
    "    nb_mots = 0\n",
    "    cpt = 0\n",
    "    #on cherche les balises 'article'\n",
    "    for r in root.iter('article') :\n",
    "        #on récupère le contenu de l'article\n",
    "        articles.append(r.text)\n",
    "        #on compte le nombre de mots total (tous articles réunis)\n",
    "        nb_mots+=len(r.text.split())\n",
    "        cpt+=1\n",
    "        #print(cpt)\n",
    "        if cpt== 19 :\n",
    "            break\n",
    "    #on stocke la liste obtenue dans un fichier json\n",
    "    #write_json(\"articles.txt\",articles)\n",
    "    \n",
    "    print(\"Nombre de mots : \",nb_mots)\n",
    "    print(\"Nombre d'articles : \",len(articles))\n",
    "    \n",
    "    return articles"
   ]
  },
  {
   "cell_type": "code",
   "execution_count": 4,
   "id": "8aa5611a",
   "metadata": {},
   "outputs": [],
   "source": [
    "#constitution du corpus de transcriptions\n",
    "def traitement_transcriptions(dossier):\n",
    "    ''' Fonction qui permet de sauvegarder le corpus de transcriptions dans une liste '''\n",
    "    nb_mots = 0\n",
    "    transcriptions = []\n",
    "    for fichier in glob.glob(\"%s/*\"%dossier):\n",
    "        with open(fichier, 'r', encoding=\"utf-8\") as f:\n",
    "            file = f.read() \n",
    "\n",
    "        soup = BeautifulSoup(file, 'xml')\n",
    "        turns = soup.find_all('Turn')\n",
    "        #chaîne où l'on stocke tout le contenu de la transcription (1 fichier = 1 item de la liste, on met bout à bout les contenus des balises turn)\n",
    "        transcription = \"\"\n",
    "        for turn in turns:\n",
    "            #print(turn.text)\n",
    "            transcription +=re.sub(\"\\n\",\" \",turn.text)\n",
    "        nb_mots+=len(transcription.split())\n",
    "        transcriptions.append(transcription)\n",
    "    \n",
    "    print(\"Nombre de mots : \",nb_mots)\n",
    "    print(\"Nombre de transcriptions : \",len(transcriptions))\n",
    "    \n",
    "#     write_json(\"transcriptions.txt\",transcriptions)\n",
    "    \n",
    "    return transcriptions"
   ]
  },
  {
   "cell_type": "code",
   "execution_count": 5,
   "id": "b87dd798",
   "metadata": {},
   "outputs": [],
   "source": [
    "def traitement_discours(fichier_discours):    \n",
    "    \n",
    "    '''Fonction qui permet de sauvegarder le corpus de discours politiques dans une liste'''\n",
    "    \n",
    "    with open(fichier_discours, 'r', encoding=\"utf-8\") as f:\n",
    "        file = f.read() \n",
    "\n",
    "    liste_discours = file.split(\"****\")\n",
    "    liste_discours.pop(0) #sinon 1er élément est vide\n",
    "    nb_mots = len(file.split())\n",
    "    nb_discours = len(liste_discours)\n",
    "    \n",
    "    print(\"Nombre de mots : \",nb_mots)\n",
    "    print(\"Nombre de discours : \",len(liste_discours))\n",
    "        \n",
    "    return liste_discours"
   ]
  },
  {
   "cell_type": "code",
   "execution_count": 6,
   "id": "14e63a04",
   "metadata": {},
   "outputs": [],
   "source": [
    "def traitement_discours40k(fichier_discours):   \n",
    "    \n",
    "    ''' Fonction d'équilibrage du corpus de discours (40 000 tokens )'''\n",
    "    \n",
    "    with open(fichier_discours, 'r', encoding=\"utf-8\") as f:\n",
    "        file = f.read() \n",
    "\n",
    "    nb_mots = 0\n",
    "    liste_discours = file.split(\"****\")\n",
    "    liste_discours40k = []\n",
    "    for discours in liste_discours : \n",
    "        nb_mots+= len(discours.split())\n",
    "        if nb_mots<=40000:\n",
    "            liste_discours40k.append(discours)\n",
    "        else:\n",
    "            break\n",
    "    nb_discours = len(liste_discours)\n",
    "    \n",
    "    print(\"Nombre de mots : \",nb_mots)\n",
    "    print(\"Nombre de discours : \",len(liste_discours40k))\n",
    "    \n",
    "    #write_json(\"transcriptions.txt\",transcriptions)\n",
    "    \n",
    "    return liste_discours40k"
   ]
  },
  {
   "cell_type": "code",
   "execution_count": 7,
   "id": "c57ec289",
   "metadata": {},
   "outputs": [],
   "source": [
    "liste_tweets = ouvrir_json(\"corpus/1700tweets.txt\")\n",
    "#print(liste_tweets)"
   ]
  },
  {
   "cell_type": "code",
   "execution_count": 8,
   "id": "069dd052",
   "metadata": {},
   "outputs": [
    {
     "name": "stdout",
     "output_type": "stream",
     "text": [
      "Nombre de mots :  40381\n",
      "Nombre d'articles :  19\n"
     ]
    }
   ],
   "source": [
    "liste_articles = traitement_articles('corpus/europresse_film.xml')\n",
    "# print(liste_articles)"
   ]
  },
  {
   "cell_type": "code",
   "execution_count": 9,
   "id": "39901d34",
   "metadata": {},
   "outputs": [
    {
     "name": "stdout",
     "output_type": "stream",
     "text": [
      "Nombre de mots :  39219\n",
      "Nombre de transcriptions :  45\n"
     ]
    }
   ],
   "source": [
    "liste_transcriptions = traitement_transcriptions(\"corpus/corpus_transcriptions\")\n",
    "# print(liste_transcriptions)"
   ]
  },
  {
   "cell_type": "code",
   "execution_count": 10,
   "id": "42dd6b1b",
   "metadata": {},
   "outputs": [
    {
     "name": "stdout",
     "output_type": "stream",
     "text": [
      "Nombre de mots :  564320\n",
      "Nombre de discours :  115\n",
      "----------------------------------------------------------------------------------------------------\n",
      "Nombre de mots :  46762\n",
      "Nombre de discours :  6\n",
      "----------------------------------------------------------------------------------------------------\n",
      "Nombre de mots :  41507\n",
      "Nombre de discours :  6\n"
     ]
    }
   ],
   "source": [
    "liste_discours = traitement_discours(\"corpus/Campagne2022.txt\")\n",
    "print(\"-\"*100)\n",
    "liste_discours40k = traitement_discours40k(\"corpus/Campagne2022.txt\")\n",
    "print(\"-\"*100)\n",
    "liste_discours6 = traitement_discours(\"corpus/Campagne2022_6discours.txt\")"
   ]
  },
  {
   "cell_type": "code",
   "execution_count": 11,
   "id": "376a3eaa",
   "metadata": {},
   "outputs": [
    {
     "name": "stdout",
     "output_type": "stream",
     "text": [
      "Pour les articles : \n",
      "Nombre tokens :  42530\n",
      "Nombre types :  8381\n",
      "\n",
      "************************************************\n",
      "Pour les tweets : \n",
      "Nombre tokens :  42485\n",
      "Nombre types :  7004\n",
      "\n",
      "************************************************\n",
      "Pour les transcriptions\n",
      "Nombre tokens :  42308\n",
      "Nombre types :  3004\n",
      "\n",
      "************************************************\n"
     ]
    }
   ],
   "source": [
    "#statistiques sur les corpus\n",
    "def vocabulaire(corpus):\n",
    "    dico_vocab = {}\n",
    "    for el in corpus:\n",
    "        el = re.sub(r'[^\\w]',' ', el)\n",
    "        tokens = el.split()\n",
    "        for t in tokens:\n",
    "            if t not in dico_vocab:\n",
    "                dico_vocab[t]=0\n",
    "            dico_vocab[t]+=1\n",
    "    return dico_vocab\n",
    "\n",
    "print(\"Pour les articles : \")\n",
    "voc_articles = vocabulaire(liste_articles)\n",
    "print(\"Nombre tokens : \", sum(voc_articles.values()))\n",
    "print(\"Nombre types : \", len(voc_articles))\n",
    "print(\"\\n************************************************\")\n",
    "\n",
    "print(\"Pour les tweets : \")\n",
    "voc_tweets = vocabulaire(liste_tweets)\n",
    "print(\"Nombre tokens : \", sum(voc_tweets.values()))\n",
    "print(\"Nombre types : \", len(voc_tweets))\n",
    "print(\"\\n************************************************\")\n",
    "\n",
    "print(\"Pour les transcriptions\")\n",
    "voc_transcriptions = vocabulaire(liste_transcriptions)\n",
    "print(\"Nombre tokens : \", sum(voc_transcriptions.values()))\n",
    "print(\"Nombre types : \", len(voc_transcriptions))\n",
    "print(\"\\n************************************************\")"
   ]
  },
  {
   "cell_type": "markdown",
   "id": "ba59d560",
   "metadata": {},
   "source": [
    "# Recherche de marques d'oralité et de non oralité"
   ]
  },
  {
   "cell_type": "markdown",
   "id": "117585ef",
   "metadata": {},
   "source": [
    "## Calcul du nombre de marques d'oralité"
   ]
  },
  {
   "cell_type": "code",
   "execution_count": 12,
   "id": "ce08451c",
   "metadata": {},
   "outputs": [
    {
     "name": "stdout",
     "output_type": "stream",
     "text": [
      "transcriptions {'ça': 541, 'alors': 153, 'euh': 1529, 'je': 586, 'voilà': 242, 'bon': 179, 'ouais': 479, 'maintenant': 32, 'y': 299, 'bah': 372, 'ben': 32, 'ici': 17, 'hein': 158, 'là': 127, 'ah': 236, 'tu': 88, 'hier': 1, 'bientôt': 4, 'demain': 5} \n",
      "\n",
      "[('euh', 1529), ('je', 586), ('ça', 541), ('ouais', 479), ('bah', 372), ('y', 299), ('voilà', 242), ('ah', 236), ('bon', 179), ('hein', 158), ('alors', 153), ('là', 127), ('tu', 88), ('maintenant', 32), ('ben', 32), ('ici', 17), ('demain', 5), ('bientôt', 4), ('hier', 1)] \n",
      "\n",
      "5080 \n",
      "\n",
      "****************\n",
      "articles {'je': 279, 'ça': 75, 'là': 23, 'alors': 36, 'y': 118, 'ici': 8, 'tu': 16, 'ben': 3, 'bon': 7, 'bientôt': 2, 'voilà': 2, 'ah': 1, 'demain': 1} \n",
      "\n",
      "[('je', 279), ('y', 118), ('ça', 75), ('alors', 36), ('là', 23), ('tu', 16), ('ici', 8), ('bon', 7), ('ben', 3), ('bientôt', 2), ('voilà', 2), ('ah', 1), ('demain', 1)] \n",
      "\n",
      "571 \n",
      "\n",
      "****************\n",
      "tweets {'je': 215, 'ça': 99, 'hier': 11, 'y': 140, 'tu': 52, 'ah': 5, 'là': 40, 'alors': 26, 'maintenant': 8, 'bah': 9, 'bon': 19, 'demain': 11, 'bientôt': 6, 'aujourd’hui': 4, 'ici': 5, 'ouais': 6, 'ha': 9, 'voilà': 2, 'ben': 1, 'hein': 1} \n",
      "\n",
      "[('je', 215), ('y', 140), ('ça', 99), ('tu', 52), ('là', 40), ('alors', 26), ('bon', 19), ('hier', 11), ('demain', 11), ('bah', 9), ('ha', 9), ('maintenant', 8), ('bientôt', 6), ('ouais', 6), ('ah', 5), ('ici', 5), ('aujourd’hui', 4), ('voilà', 2), ('ben', 1), ('hein', 1)] \n",
      "\n",
      "669 \n",
      "\n",
      "****************\n"
     ]
    }
   ],
   "source": [
    "#script de calcul du nombre de marques d'oralité, par string matching\n",
    "\n",
    "interjections = [\"bon\",\"voilà\", \"ouais\", \"hein\", \"ben\", \"bah\", \"euh\", \"heu\", \"ah\", \"ha\", \"alors\"]\n",
    "deictiques = [\"maintenant\", \"hier\", \"aujourd’hui\", \"demain\", \"bientôt\", \"ça\",\" c'\", \"y\", \"là\", \"ici\"]\n",
    "personnes = [\"je\",\"j'\",\"t\",\"tu\"]\n",
    "\n",
    "oralite = interjections+deictiques+personnes\n",
    "dico_oralite = {}\n",
    "\n",
    "corpus = {\"transcriptions\":liste_transcriptions, \"articles\":liste_articles,\"tweets\":liste_tweets}\n",
    "             \n",
    "for nom,liste in corpus.items():\n",
    "    dico_oralite[nom]={}\n",
    "    for el in liste:\n",
    "        chaine_l = el.lower()\n",
    "        chaine_l_propre = chaine_l.split()\n",
    "        for mot in chaine_l_propre:\n",
    "            for marque in oralite:\n",
    "                if mot==marque:\n",
    "                    if marque not in dico_oralite[nom]:\n",
    "                        dico_oralite[nom][marque]=0\n",
    "                    dico_oralite[nom][marque]+=1\n",
    "                \n",
    "\n",
    "for key, value in dico_oralite.items():\n",
    "    print(key,value, \"\\n\")\n",
    "    print(sorted(value.items(), key=lambda x:x[1],reverse=True), \"\\n\")\n",
    "    print(sum(value.values()), \"\\n\")\n",
    "    print(\"****************\")"
   ]
  },
  {
   "cell_type": "code",
   "execution_count": 13,
   "id": "f3143364",
   "metadata": {},
   "outputs": [],
   "source": [
    "def bigrammes_gauche(mot_cherche,corpus):\n",
    "    \n",
    "    ''' Fonction qui renvoie la fréquence d'un token à gauche du mot cherché, selon le corpus choisi '''\n",
    "    \n",
    "    dico = {}\n",
    "    for el in corpus:\n",
    "        el = re.sub(r'[^\\w]',' ', el)\n",
    "        tokens = el.split()\n",
    "        chaine = \"\"\n",
    "        for i,n in enumerate(tokens):\n",
    "            if mot_cherche == n :\n",
    "                if i > 0 :\n",
    "                    chaine+=tokens[i-1]+\" \"+n\n",
    "                    if chaine not in dico :\n",
    "                        dico[chaine] = 0\n",
    "                    dico[chaine] += 1\n",
    "\n",
    "    return dico\n",
    "                "
   ]
  },
  {
   "cell_type": "code",
   "execution_count": 14,
   "id": "c825bdee",
   "metadata": {},
   "outputs": [],
   "source": [
    "def bigrammes_droite(mot_cherche,corpus):\n",
    "    \n",
    "    ''' Fonction qui renvoie la fréquence d'un token à droite du mot cherché, selon le corpus choisi '''\n",
    "    \n",
    "    dico = {}\n",
    "    for el in corpus:\n",
    "        el = re.sub(r'[^\\w]',' ', el)\n",
    "        tokens = el.split()\n",
    "        chaine = \"\"\n",
    "        for i,n in enumerate(tokens):\n",
    "            if mot_cherche == n :\n",
    "                if i < len(tokens)-1 :\n",
    "                    chaine += n+\" \"+tokens[i+1]\n",
    "                    if chaine not in dico :\n",
    "                        dico[chaine] = 0\n",
    "                    dico[chaine] += 1\n",
    "\n",
    "    return dico\n"
   ]
  },
  {
   "cell_type": "code",
   "execution_count": 15,
   "id": "d9a740b9",
   "metadata": {},
   "outputs": [
    {
     "data": {
      "text/plain": [
       "{'est bon': 1,\n",
       " 'un bon': 4,\n",
       " 'si bon': 1,\n",
       " 'trop bon': 1,\n",
       " 'au bon': 1,\n",
       " 'ce bon': 2,\n",
       " 'mais bon': 3,\n",
       " 'très bon': 3,\n",
       " '1 bon': 1,\n",
       " 'pas bon': 1}"
      ]
     },
     "execution_count": 15,
     "metadata": {},
     "output_type": "execute_result"
    }
   ],
   "source": [
    "bigrammes_gauche(\"bon\",liste_articles)\n",
    "\n",
    "bigrammes_droite(\"bon\",liste_articles)\n",
    "\n",
    "bigrammes_gauche(\"bon\",liste_tweets)\n",
    "\n",
    "#bigrammes_droite(\"bon\",liste_tweets)"
   ]
  },
  {
   "cell_type": "markdown",
   "id": "3449419c",
   "metadata": {},
   "source": [
    "## Calcul du nombre de marques de non oralité"
   ]
  },
  {
   "cell_type": "code",
   "execution_count": 16,
   "id": "9e11043a",
   "metadata": {
    "scrolled": true
   },
   "outputs": [
    {
     "name": "stdout",
     "output_type": "stream",
     "text": [
      "transcriptions {'il': 276, 'se': 109, 'son': 39, 'lui': 32, 'sa': 30, 'ne': 67, 'dont': 9, 'ses': 10, 'cela': 3, 'pourtant': 1} \n",
      "\n",
      "[('il', 276), ('se', 109), ('ne', 67), ('son', 39), ('lui', 32), ('sa', 30), ('ses', 10), ('dont', 9), ('cela', 3), ('pourtant', 1)] \n",
      "\n",
      "576 \n",
      "\n",
      "****************\n",
      "articles {'se': 188, 'ne': 200, 'sa': 151, 'il': 426, 'ses': 106, 'car': 25, 'cela': 46, 'tant': 19, 'pourtant': 10, 'son': 235, 'dont': 53, 'lui': 76} \n",
      "\n",
      "[('il', 426), ('son', 235), ('ne', 200), ('se', 188), ('sa', 151), ('ses', 106), ('lui', 76), ('dont', 53), ('cela', 46), ('car', 25), ('tant', 19), ('pourtant', 10)] \n",
      "\n",
      "1535 \n",
      "\n",
      "****************\n",
      "tweets {'son': 70, 'il': 231, 'ne': 57, 'ses': 38, 'se': 64, 'dont': 15, 'tant': 6, 'sa': 31, 'lui': 19, 'cela': 26, 'car': 9, 'pourtant': 4, 'n': 1} \n",
      "\n",
      "[('il', 231), ('son', 70), ('se', 64), ('ne', 57), ('ses', 38), ('sa', 31), ('cela', 26), ('lui', 19), ('dont', 15), ('car', 9), ('tant', 6), ('pourtant', 4), ('n', 1)] \n",
      "\n",
      "571 \n",
      "\n",
      "****************\n"
     ]
    }
   ],
   "source": [
    "#script de calcul du nombre de marques de non oralité, par string matching\n",
    "\n",
    "non_oralite = [\"n\",\"ne\",\"cela\",\"car\",\"dont\",\"tant\",\"pourtant\",\"son\",\"ses\",\"sa\",\"il\",\"lui\",\"se\"]\n",
    "dico_non_oralite = {}\n",
    "corpus = {\"transcriptions\":liste_transcriptions, \"articles\":liste_articles,\"tweets\":liste_tweets}\n",
    "             \n",
    "for nom,liste in corpus.items():\n",
    "    dico_non_oralite[nom]={}\n",
    "    for el in liste:\n",
    "        chaine_l = el.lower()\n",
    "        #chaine_l_propre = re.sub(r'[^\\w]',' ', chaine_l)\n",
    "        chaine_l_propre = chaine_l.split()\n",
    "        for mot in chaine_l_propre:\n",
    "            for marque in non_oralite:\n",
    "                if mot==marque:\n",
    "                    if marque not in dico_non_oralite[nom]:\n",
    "                        dico_non_oralite[nom][marque]=0\n",
    "                    dico_non_oralite[nom][marque]+=1\n",
    "                \n",
    "# sorted(dico_oralite.items(), key=lambda x:x[1],reverse=True)\n",
    "for key, value in dico_non_oralite.items():\n",
    "    print(key,value, \"\\n\")\n",
    "    print(sorted(value.items(), key=lambda x:x[1],reverse=True), \"\\n\")\n",
    "    print(sum(value.values()), \"\\n\")\n",
    "    print(\"****************\")"
   ]
  },
  {
   "cell_type": "markdown",
   "id": "1d8d4bd7",
   "metadata": {},
   "source": [
    "# Détection des phrases négatives (écrit VS oral)"
   ]
  },
  {
   "cell_type": "code",
   "execution_count": 17,
   "id": "6696145f",
   "metadata": {},
   "outputs": [],
   "source": [
    "#à faire : ne...jamais\n",
    "def marques_negation(corpus) :  \n",
    "    #https://stackoverflow.com/questions/977251/regular-expressions-and-negating-a-whole-character-group\n",
    "    \n",
    "    ''' Fonction qui détecte les phrases négatives et renvoie le nombre d'occurrences \n",
    "    des phrases négatives considérées orales ou écrites '''\n",
    "\n",
    "    neg_ecrit = 0\n",
    "    neg_oral = 0\n",
    "    for c in corpus :\n",
    "        \n",
    "        #exclusion du nom pas en considerant que pas est un nom s'il est précédé d'un article\n",
    "        motif_pas_nom = re.compile(r'.*?((le[s]?\\spas) |(aux?\\spas) | (un\\spas) | (de[s]?\\spas) | ([mts](on|es)\\spas) | ([nv](os | otres)\\spas) | (leurs?\\spas) | (ces?\\spas))')\n",
    "        \n",
    "        \n",
    "        \n",
    "        #recherche du motif de la forme : ne | n' ... pas\n",
    "        negation_avec_ne_pas = re.compile(r'.*?([nN]e\\s | n[\\'\\’])(?:(?!\\.).)+?(pas[\\s\\W])')\n",
    "\n",
    "\n",
    "        #recherche du motif de la forme : ne | n' ... plus\n",
    "        negation_avec_ne_plus = re.compile(r'.*?([nN]e\\s | n[\\'\\’])(?:(?!\\.).)+?(plus[\\s\\W])')\n",
    "\n",
    "        \n",
    "        #recherche du motif de négation à l'oral: pas sans ne ou n'\n",
    "        negation_sans_ne = re.compile(r'(?:(?![nN]e\\s).)+?(pas[\\s\\W])')\n",
    "        negation_sans_n = re.compile(r'(?:(?![nN][\\’|\\']).)+?(pas[\\s\\W])')\n",
    "        \n",
    "\n",
    "        #négations classiques à l'écrit\n",
    "        neg_ne_pas = re.match(negation_avec_ne_pas,c)\n",
    "        neg_ne_plus = re.match(negation_avec_ne_plus,c)\n",
    "\n",
    "        if not re.match(motif_pas_nom,c) :\n",
    "            if neg_ne_pas :\n",
    "                neg_ecrit+=1\n",
    "#                 print(\"Ecrit\")\n",
    "#                 print(c)\n",
    "#                 print(neg_ne_pas.group(0))\n",
    "#                 print(\"-\"*55)\n",
    "\n",
    "            #cas de la marque (ne...) plus : plus a un autre sens, n'exprime pas uniquement la négation > risque de bruit   \n",
    "            if neg_ne_plus :\n",
    "                neg_ecrit+=1\n",
    "#                 print(\"Ecrit\")\n",
    "#                 print(neg_ne_plus.group(0))\n",
    "#                 print(c)\n",
    "#                 print(\"-\"*55)\n",
    "\n",
    "            neg_sans_ne = re.match(negation_sans_ne,c)\n",
    "            neg_sans_n = re.match(negation_sans_n,c)\n",
    "            #négation à l'oral :\n",
    "            if neg_sans_ne and neg_sans_n:\n",
    "                neg_oral+=1\n",
    "#                 print(\"Oral\")\n",
    "#                 print(neg_sans_ne.group(0))\n",
    "#                 print(c)\n",
    "#                 print(\"*\"*55)\n",
    "\n",
    "    #print(\"Négation ne pas : \",neg_ecrit)\n",
    "    #print(\"Négation à l'oral : \",neg_oral)\n",
    "    return neg_ecrit,neg_oral"
   ]
  },
  {
   "cell_type": "code",
   "execution_count": 18,
   "id": "2958beb2",
   "metadata": {},
   "outputs": [
    {
     "data": {
      "text/plain": [
       "(32, 89)"
      ]
     },
     "execution_count": 18,
     "metadata": {},
     "output_type": "execute_result"
    }
   ],
   "source": [
    "marques_negation(liste_tweets)"
   ]
  },
  {
   "cell_type": "code",
   "execution_count": 19,
   "id": "460cb1bf",
   "metadata": {},
   "outputs": [
    {
     "data": {
      "text/plain": [
       "(51, 280)"
      ]
     },
     "execution_count": 19,
     "metadata": {},
     "output_type": "execute_result"
    }
   ],
   "source": [
    "def marques_negation_transcriptions(corpus) :\n",
    "    ''' Fonction qui calcule le nombre d'occurences des phrases négatives écrites ou orales \n",
    "    pour le corpus de transcriptions '''\n",
    "    \n",
    "    neg_ecrit = 0\n",
    "    neg_oral = 0\n",
    "    for c in corpus :\n",
    "        sequences = c.split('    ')\n",
    "        cpt_ecrit,cpt_oral = marques_negation(sequences)\n",
    "        neg_ecrit+=cpt_ecrit\n",
    "        neg_oral+=cpt_oral\n",
    "        #print(phrases)\n",
    "    return neg_ecrit,neg_oral\n",
    "marques_negation_transcriptions(liste_transcriptions)"
   ]
  },
  {
   "cell_type": "code",
   "execution_count": 20,
   "id": "e4f7af59",
   "metadata": {},
   "outputs": [],
   "source": [
    "def marques_negation_articles(corpus) :\n",
    "    \n",
    "    ''' Fonction qui calcule le nombre d'occurences des phrases négatives écrites ou orales pour le corpus d'articles '''\n",
    "    \n",
    "    neg_ecrit = 0\n",
    "    neg_oral = 0\n",
    "    cpt_ecrit = 0\n",
    "    cpt_oral = 0\n",
    "    for c in corpus :\n",
    "        phrases = c.split(\".\")\n",
    "        cpt_ecrit,cpt_oral = marques_negation(phrases)\n",
    "        neg_ecrit+=cpt_ecrit\n",
    "        neg_oral+=cpt_oral\n",
    "        #print(phrases)\n",
    "    return neg_ecrit,neg_oral\n"
   ]
  },
  {
   "cell_type": "code",
   "execution_count": 21,
   "id": "5d607d32",
   "metadata": {},
   "outputs": [
    {
     "data": {
      "text/plain": [
       "(137, 19)"
      ]
     },
     "execution_count": 21,
     "metadata": {},
     "output_type": "execute_result"
    }
   ],
   "source": [
    "marques_negation_articles(liste_articles)"
   ]
  },
  {
   "cell_type": "markdown",
   "id": "31d9dcf7",
   "metadata": {},
   "source": [
    "# Calcul du degré oralité de chaque corpus"
   ]
  },
  {
   "cell_type": "code",
   "execution_count": 22,
   "id": "1c7414a8",
   "metadata": {},
   "outputs": [],
   "source": [
    "def frequence_marques(marques,cEcrit,cOral,autre) :\n",
    "    \n",
    "    ''' Fonction de calcul de la fréquence des marques d'oralité et de non oralité '''\n",
    "    \n",
    "    dico_non_oralite = {}\n",
    "    corpus = {\"oralite\":cOral, \"ecrit\":cEcrit,\"autre\":autre}\n",
    "\n",
    "    for nom,liste in corpus.items():\n",
    "        dico_non_oralite[nom]={}\n",
    "        for el in liste:\n",
    "            chaine_l = el.lower()\n",
    "            #chaine_l_propre = re.sub(r'[^\\w]',' ', chaine_l)\n",
    "            chaine_l_propre = chaine_l.split()\n",
    "            for mot in chaine_l_propre:\n",
    "                for marque in marques:\n",
    "                    if mot==marque:\n",
    "                        if marque not in dico_non_oralite[nom]:\n",
    "                            dico_non_oralite[nom][marque]=0\n",
    "                        dico_non_oralite[nom][marque]+=1\n",
    "   \n",
    "    return dico_non_oralite[\"oralite\"],dico_non_oralite[\"ecrit\"],dico_non_oralite[\"autre\"]"
   ]
  },
  {
   "cell_type": "code",
   "execution_count": 23,
   "id": "b60c5ea4",
   "metadata": {},
   "outputs": [],
   "source": [
    "def calcul_marques(marques_oral,marques_ecr,corp_ecrit,corp_oral,autre) :\n",
    "    \n",
    "    ''' Fonction qui calcule le pourcentage de chaque marque orale/écrite par rapport au nombre total\n",
    "    \n",
    "    de marques de l'oral/écrit '''\n",
    "    \n",
    "    oralO = frequence_marques(marques_oral,corp_ecrit,corp_oral,autre)[0]\n",
    "    ecrO = frequence_marques(marques_ecr,corp_ecrit,corp_oral,autre)[1]\n",
    "   \n",
    "    dic_coeff_O = {}\n",
    "    total_or = sum(oralO.values())\n",
    "    for k,v in oralO.items() :\n",
    "        dic_coeff_O[k] = round((v*100)/total_or,3)\n",
    "    dic_coeff_E = {}\n",
    "    total_E = sum(ecrO.values())\n",
    "    for k,v in ecrO.items() :\n",
    "        #multiplication des marques de l'écrit par -1 pour les opposer aux marques de l'oral\n",
    "        dic_coeff_E[k] = round((v*100)/total_E,3)*(-1)\n",
    "    return dic_coeff_O,dic_coeff_E"
   ]
  },
  {
   "cell_type": "code",
   "execution_count": 24,
   "id": "eed21351",
   "metadata": {},
   "outputs": [
    {
     "name": "stdout",
     "output_type": "stream",
     "text": [
      "{'ça': 10.65, 'alors': 3.012, 'euh': 30.098, 'je': 11.535, 'voilà': 4.764, 'bon': 3.524, 'ouais': 9.429, 'maintenant': 0.63, 'y': 5.886, 'bah': 7.323, 'ben': 0.63, 'ici': 0.335, 'hein': 3.11, 'là': 2.5, 'ah': 4.646, 'tu': 1.732, 'hier': 0.02, 'bientôt': 0.079, 'demain': 0.098} {'se': -12.248, 'ne': -13.029, 'sa': -9.837, 'il': -27.752, 'ses': -6.906, 'car': -1.629, 'cela': -2.997, 'tant': -1.238, 'pourtant': -0.651, 'son': -15.309, 'dont': -3.453, 'lui': -4.951}\n"
     ]
    }
   ],
   "source": [
    "dico_Oral, dico_Ecrit = calcul_marques(oralite,non_oralite,liste_articles,liste_transcriptions,liste_tweets)\n",
    "print(dico_Oral, dico_Ecrit)"
   ]
  },
  {
   "cell_type": "code",
   "execution_count": 25,
   "id": "9e0c3345",
   "metadata": {},
   "outputs": [],
   "source": [
    "def calcul_oralite(dicoOral,dicoEcrit,corpus):\n",
    "    ''' Fonction qui calcule le score d'oralité d'un corpus '''\n",
    "    dico_score_oralite = {}\n",
    "    for i,text in enumerate(corpus):\n",
    "        dico_score_oralite[i]=0.0\n",
    "        for token in text.lower().split():\n",
    "            if token in dico_Oral:\n",
    "                dico_score_oralite[i]+=dicoOral[token]\n",
    "            if token in dico_Ecrit:\n",
    "                dico_score_oralite[i]+=dicoEcrit[token]\n",
    "        #print(text+\" : \"+str(dico_score_oralite[i]))\n",
    "        #print(\"-\"*89)\n",
    "   \n",
    "    return dico_score_oralite"
   ]
  },
  {
   "cell_type": "code",
   "execution_count": 26,
   "id": "cf5e0308",
   "metadata": {},
   "outputs": [
    {
     "name": "stdout",
     "output_type": "stream",
     "text": [
      "Moyenne de l'oralité des tweets :  -2.9197105882353003\n",
      "Moyenne de l'oralité des transcriptions :  1352.5061555555544\n",
      "Moyenne de l'oralité des articles :  -966.5706842105255\n",
      "Moyenne de l'oralité des discours :  -901.3488333333329\n"
     ]
    }
   ],
   "source": [
    "scores_oralite_tweets = calcul_oralite(dico_Oral,dico_Ecrit,liste_tweets)\n",
    "moy_oralite_tweets = sum(scores_oralite_tweets.values())/len(scores_oralite_tweets)\n",
    "print(\"Moyenne de l'oralité des tweets : \",moy_oralite_tweets)\n",
    "\n",
    "scores_oralite_transcriptions = calcul_oralite(dico_Oral,dico_Ecrit,liste_transcriptions)\n",
    "moy_oralite_transcriptions = sum(scores_oralite_transcriptions.values())/len(scores_oralite_transcriptions)\n",
    "print(\"Moyenne de l'oralité des transcriptions : \",moy_oralite_transcriptions)\n",
    "\n",
    "scores_oralite_articles = calcul_oralite(dico_Oral,dico_Ecrit,liste_articles)\n",
    "moy_oralite_articles = sum(scores_oralite_articles.values())/len(scores_oralite_articles)\n",
    "print(\"Moyenne de l'oralité des articles : \",moy_oralite_articles)\n",
    "\n",
    "scores_oralite_discours = calcul_oralite(dico_Oral, dico_Ecrit,liste_discours6)\n",
    "moy_oralite_discours = sum(scores_oralite_discours.values())/len(scores_oralite_discours)\n",
    "print(\"Moyenne de l'oralité des discours : \",moy_oralite_discours)"
   ]
  },
  {
   "cell_type": "markdown",
   "id": "80c34f1e",
   "metadata": {},
   "source": [
    "# Etiquetage morphosyntaxique des corpus"
   ]
  },
  {
   "cell_type": "code",
   "execution_count": 27,
   "id": "07f0a04e",
   "metadata": {},
   "outputs": [],
   "source": [
    "def lire_txt(chemin):\n",
    "    '''Fonction de recuperation de la chaine d'un fichier '''\n",
    "    with open(chemin, 'r', encoding=\"utf-8\") as f:\n",
    "        file= f.read() \n",
    "    return file"
   ]
  },
  {
   "cell_type": "code",
   "execution_count": 28,
   "id": "7493ac6e",
   "metadata": {},
   "outputs": [],
   "source": [
    "def pos_tagging(list_text):\n",
    "    \n",
    "    ''' Fonction d'annotation des parties du discours d'un texte donné '''\n",
    "    \n",
    "    #à mettre à jour selon la machine\n",
    "    #jar = 'C:/Users/fanny/stanford-postagger-full-2020-11-17/stanford-postagger-4.2.0.jar'\n",
    "    jar = 'C:/Users/phisi/stanford-tagger-4.2.0/stanford-postagger-full-2020-11-17/stanford-postagger-4.2.0.jar'\n",
    "    \n",
    "    #à mettre à jour selon la machine\n",
    "    #model = 'C:/Users/fanny/stanford-postagger-full-2020-11-17/models/french-ud.tagger'\n",
    "    model = 'C:/Users/phisi/stanford-tagger-4.2.0/stanford-postagger-full-2020-11-17/models/french-ud.tagger'\n",
    "    \n",
    "    #à mettre à jour selon la machine\n",
    "    #java_path = \"C:/Program Files/Java/jdk-18/bin/java.exe\"\n",
    "    java_path = \"C:/Program Files/Java/jdk-18.0.1.1/bin/java.exe\"\n",
    "    \n",
    "    \n",
    "    os.environ['JAVAHOME'] = java_path\n",
    "    pos_tagger = StanfordPOSTagger(model, jar, encoding='utf8' )\n",
    "    text_tagged = pos_tagger.tag(list_text.split())\n",
    "    new_text = []\n",
    "    for word in text_tagged:\n",
    "        new_text.append(word[0] + \"/\" + word[1])\n",
    "    doc = ' '.join(new_text)\n",
    "    return doc"
   ]
  },
  {
   "cell_type": "code",
   "execution_count": 29,
   "id": "7531cd00",
   "metadata": {},
   "outputs": [],
   "source": [
    "def fichier_pos(chemin_corpus,chemin_desti):\n",
    "    '''Fonction qui renvoie un fichier annoté (part of speech) de chaque corpus'''\n",
    "    \n",
    "    corpus = lire_txt(chemin_corpus)\n",
    "    corpus_pos = pos_tagging(corpus)\n",
    "    write_json(chemin_desti,corpus_pos)"
   ]
  },
  {
   "cell_type": "code",
   "execution_count": 30,
   "id": "79f3592a",
   "metadata": {},
   "outputs": [],
   "source": [
    "fichier_pos(\"corpus/transcriptions.txt\",\"transcriptions_pos.txt\")\n",
    "fichier_pos(\"corpus/articles.txt\",\"articles_pos.txt\")"
   ]
  },
  {
   "cell_type": "code",
   "execution_count": 31,
   "id": "a2a8b423",
   "metadata": {},
   "outputs": [],
   "source": [
    "fichier_pos(\"corpus/1700tweets.txt\",\"1700tweets_pos.txt\")\n",
    "fichier_pos(\"corpus/Campagne2022_6discours.txt\", \"Campagne2022_6discours_pos.txt\")"
   ]
  },
  {
   "cell_type": "code",
   "execution_count": 32,
   "id": "6e5c361e",
   "metadata": {},
   "outputs": [],
   "source": [
    "def dico_pos(chemin_corpus_pos):\n",
    "    \n",
    "    '''Fonction qui calcule le nombre d'occurrences d'une partie du discours pour chaque corpus '''\n",
    "    \n",
    "    corpus_pos = lire_txt(chemin_corpus_pos)\n",
    "    cp = corpus_pos.split()\n",
    "    dico_pos = {}\n",
    "    for couple in cp:\n",
    "        mot_pos = couple.split(\"/\")\n",
    "        if mot_pos[-1] not in dico_pos:\n",
    "            dico_pos[mot_pos[-1]]=0\n",
    "        dico_pos[mot_pos[-1]]+=1\n",
    "    return dico_pos\n",
    "\n",
    "dico_pos_articles = dico_pos(\"articles_pos.txt\")\n",
    "dico_pos_transcriptions = dico_pos(\"transcriptions_pos.txt\")\n",
    "dico_pos_tweets = dico_pos(\"1700tweets_pos.txt\")\n",
    "dico_pos_discours = dico_pos(\"Campagne2022_6discours_pos.txt\")"
   ]
  },
  {
   "cell_type": "code",
   "execution_count": 33,
   "id": "1ea793b8",
   "metadata": {},
   "outputs": [
    {
     "name": "stdout",
     "output_type": "stream",
     "text": [
      "Articles :  {'PUNCT': 2.657058663298913, 'X': 0.7800312012480499, 'ADJ': 6.854369412871753, 'NOUN': 19.61468934947874, 'DET': 13.879602803159747, 'VERB': 13.054998390411807, 'PRON': 7.604685139786543, 'AUX': 3.090409330658941, 'ADP': 12.755367357551444, 'NUM': 1.3693881088576876, 'ADV': 5.163063665403759, 'CCONJ': 2.825446351187381, 'PROPN': 8.902260852338856, 'INTJ': 0.022286605749944285, 'SCONJ': 1.3817695564965455, 'PART': 0.0198103162221727, 'SYM': 0.022286605749944285, 'PUNCT\"': 0.0024762895277715873}\n",
      "Transcriptions :  {'PUNCT': 2.1953142886215056, 'NOUN': 14.67273791050851, 'ADP': 7.829869502174963, 'PRON': 13.782401872249498, 'VERB': 14.186868815344306, 'DET': 9.249319528885044, 'ADJ': 7.43557782808883, 'SCONJ': 2.470046551855715, 'ADV': 10.424563099386939, 'NUM': 1.4499758337361044, 'X': 4.098089593243621, 'AUX': 3.764849533209534, 'PROPN': 2.0706672432652438, 'CCONJ': 3.4799420009666506, 'INTJ': 2.5616239729337846, 'SYM': 0.19078629391264532, 'PART': 0.13482231436493602, 'PUNCT\"': 0.0025438172521686044}\n",
      "Tweets :  {'PUNCT': 1.6167042546182502, 'X': 4.153257481691711, 'PRON': 5.088310569394116, 'VERB': 10.74170742214226, 'DET': 12.262118946861616, 'NOUN': 18.483136102171656, 'PROPN': 18.93419152117173, 'NUM': 2.683526341129666, 'ADP': 10.475635405316371, 'CCONJ': 1.8473000025340192, 'ADJ': 6.066441983630236, 'ADV': 3.4183919114106884, 'SCONJ': 1.2137952005676202, 'AUX': 2.5542913615285205, 'SYM': 0.357296708309049, 'INTJ': 0.08362263385956466, 'PART': 0.01773813445505917, 'PUNCT\"': 0.0025340192078655956}\n",
      "Discours :  {'ADP': 12.149757872166141, 'NUM': 1.0263329077023153, 'NOUN': 18.526995446551183, 'VERB': 12.455730358734671, 'PROPN': 1.9370226708747922, 'INTJ': 0.10841544799672345, 'PUNCT': 10.998144891223168, 'PRON': 9.246633098031658, 'SCONJ': 1.4792685571108488, 'ADJ': 6.557929987712916, 'DET': 13.236321584311082, 'ADV': 6.292914448165369, 'AUX': 2.6983400390295613, 'CCONJ': 2.8477124340472693, 'SYM': 0.06745850097573904, 'X': 0.35174789794492495, 'PART': 0.01686462524393476, 'NOUN\"': 0.0024092321777049656}\n"
     ]
    }
   ],
   "source": [
    "def stats_pos(dico_pos_corpus):\n",
    "    \n",
    "    '''Fonction qui calcule la fréquence d'une partie du discours pour chaque corpus '''\n",
    "    \n",
    "    dico_stats_pos = {}\n",
    "    for k,v in dico_pos_corpus.items():\n",
    "        dico_stats_pos[k]= (v/sum(dico_pos_corpus.values()))*100\n",
    "    return dico_stats_pos\n",
    "\n",
    "stats_pos_articles = stats_pos(dico_pos_articles)\n",
    "stats_pos_transcriptions = stats_pos(dico_pos_transcriptions)\n",
    "stats_pos_tweets = stats_pos(dico_pos_tweets)\n",
    "stats_pos_discours = stats_pos(dico_pos_discours)\n",
    "print(\"Articles : \",stats_pos_articles)\n",
    "print(\"Transcriptions : \", stats_pos_transcriptions)\n",
    "print(\"Tweets : \", stats_pos_tweets)\n",
    "print(\"Discours : \",stats_pos_discours)"
   ]
  },
  {
   "cell_type": "code",
   "execution_count": 34,
   "id": "ae24acc5",
   "metadata": {},
   "outputs": [
    {
     "data": {
      "image/png": "[encoded data removed]",
      "text/plain": [
       "<Figure size 432x288 with 1 Axes>"
      ]
     },
     "metadata": {
      "needs_background": "light"
     },
     "output_type": "display_data"
    }
   ],
   "source": [
    "import matplotlib.pyplot as plt\n",
    "def dict_to_bar(data,chemin_sortie):\n",
    "    ''' Fonction qui représente la proportion des étiquettes morphosyntaxiques par corpus sous forme de \n",
    "    diagramme en barres'''\n",
    "    \n",
    "    names = list(data.keys())\n",
    "    values = list(data.values())\n",
    "\n",
    "    plt.bar(range(len(data)), values, tick_label=names)\n",
    "    plt.xticks(rotation=60)\n",
    "    plt.ylim(0,20)\n",
    "    plt.savefig(chemin_sortie)\n",
    "    plt.show()\n",
    "    \n",
    "dict_to_bar(stats_pos_articles, \"stats_pos_articles.png\")"
   ]
  },
  {
   "cell_type": "code",
   "execution_count": 35,
   "id": "419c2322",
   "metadata": {},
   "outputs": [
    {
     "data": {
      "image/png": "[encoded data removed]",
      "text/plain": [
       "<Figure size 432x288 with 1 Axes>"
      ]
     },
     "metadata": {
      "needs_background": "light"
     },
     "output_type": "display_data"
    }
   ],
   "source": [
    "dict_to_bar(stats_pos_transcriptions, \"stats_pos_transcriptions.png\")"
   ]
  },
  {
   "cell_type": "code",
   "execution_count": 36,
   "id": "66e08b6b",
   "metadata": {},
   "outputs": [
    {
     "data": {
      "image/png": "[encoded data removed]",
      "text/plain": [
       "<Figure size 432x288 with 1 Axes>"
      ]
     },
     "metadata": {
      "needs_background": "light"
     },
     "output_type": "display_data"
    }
   ],
   "source": [
    "dict_to_bar(stats_pos_tweets, \"stats_pos_tweets.png\")"
   ]
  },
  {
   "cell_type": "code",
   "execution_count": 37,
   "id": "0d536e54",
   "metadata": {},
   "outputs": [
    {
     "data": {
      "image/png": "[encoded data removed]",
      "text/plain": [
       "<Figure size 432x288 with 1 Axes>"
      ]
     },
     "metadata": {
      "needs_background": "light"
     },
     "output_type": "display_data"
    }
   ],
   "source": [
    "dict_to_bar(stats_pos_discours, \"stats_pos_discours.png\")"
   ]
  }
 ],
 "metadata": {
  "kernelspec": {
   "display_name": "Python 3",
   "language": "python",
   "name": "python3"
  },
  "language_info": {
   "codemirror_mode": {
    "name": "ipython",
    "version": 3
   },
   "file_extension": ".py",
   "mimetype": "text/x-python",
   "name": "python",
   "nbconvert_exporter": "python",
   "pygments_lexer": "ipython3",
   "version": "3.8.8"
  }
 },
 "nbformat": 4,
 "nbformat_minor": 5
}
